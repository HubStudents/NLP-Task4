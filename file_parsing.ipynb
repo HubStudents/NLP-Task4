{
  "nbformat": 4,
  "nbformat_minor": 0,
  "metadata": {
    "colab": {
      "provenance": []
    },
    "kernelspec": {
      "name": "python3",
      "display_name": "Python 3"
    },
    "language_info": {
      "name": "python"
    }
  },
  "cells": [
    {
      "cell_type": "code",
      "source": [
        "import numpy\n",
        "import requests as rc\n",
        "from bs4 import BeautifulSoup as bs\n",
        "import pandas as pd\n",
        "from google.colab import files"
      ],
      "metadata": {
        "id": "rrGgzkVn3c-e"
      },
      "execution_count": 1,
      "outputs": []
    },
    {
      "cell_type": "code",
      "execution_count": 198,
      "metadata": {
        "id": "mWLgqTIp3V__"
      },
      "outputs": [],
      "source": [
        "URL_TEMPLATE = \"https://tenthousandhaiku.com/page/\""
      ]
    },
    {
      "cell_type": "code",
      "source": [
        "i = 1"
      ],
      "metadata": {
        "id": "B9ul-JiG3cAD"
      },
      "execution_count": 199,
      "outputs": []
    },
    {
      "cell_type": "code",
      "source": [
        "haiku_texts = []\n",
        "while (i <= 79):\n",
        "  r = rc.get(URL_TEMPLATE + str(i))\n",
        "  soup = bs(r.content, 'html.parser')\n",
        "  texts = soup.findAll('p')\n",
        "  for text in texts:\n",
        "    text = str(text)\n",
        "    haiku_texts.append(text)\n",
        "  i+=1\n",
        "df = pd.DataFrame(haiku_texts)\n"
      ],
      "metadata": {
        "id": "9z0h3Bce3aYo"
      },
      "execution_count": 200,
      "outputs": []
    },
    {
      "cell_type": "code",
      "source": [
        "colnames=['Number','FirstRow','SecondRow','ThirdRow','Original','FirstKeyPhrase','SecondKeyPhrase','KeyEmotion']\n",
        "for col in colnames:\n",
        "    df[col] = ' '"
      ],
      "metadata": {
        "id": "dJSCsTMz4Nw7"
      },
      "execution_count": 201,
      "outputs": []
    },
    {
      "cell_type": "code",
      "source": [
        "df"
      ],
      "metadata": {
        "id": "qlEwhvqk5h_4"
      },
      "execution_count": null,
      "outputs": []
    },
    {
      "cell_type": "code",
      "source": [
        "toDelete=[]\n",
        "df['FirstRow']\n",
        "df[0] = df[0].str.replace('<p>', '')\n",
        "for i in  range (0,len(df)):\n",
        "  split=df.iloc[i][0].split('<br/>')\n",
        "  if (len(split)==3):\n",
        "    df.at[i,'FirstRow']=split[0]\n",
        "    df.at[i,'SecondRow']=split[1]\n",
        "    df.at[i,'ThirdRow']=split[2]\n",
        "  else:\n",
        "    toDelete.append(i)\n",
        "    continue\n",
        "    "
      ],
      "metadata": {
        "id": "m-Ta57rY5Gf4"
      },
      "execution_count": 203,
      "outputs": []
    },
    {
      "cell_type": "code",
      "source": [
        "for i in toDelete:\n",
        "  df=df.drop(df.index[i])\n",
        "df=df.reset_index(drop=True)\n",
        "df['Number']=df.index+1"
      ],
      "metadata": {
        "id": "UZgccQm5E236"
      },
      "execution_count": 204,
      "outputs": []
    },
    {
      "cell_type": "code",
      "source": [
        "df[0]=df[0].str.replace('<br/>',' ')\n",
        "df['Original']=df[0]\n",
        "df=df.drop([0], axis=1)\n",
        "df"
      ],
      "metadata": {
        "id": "z7duUBk35VJS"
      },
      "execution_count": null,
      "outputs": []
    },
    {
      "cell_type": "code",
      "source": [
        "df.to_csv(\"dataset2.csv\")\n",
        "files.download(\"dataset2.csv\")"
      ],
      "metadata": {
        "colab": {
          "base_uri": "https://localhost:8080/",
          "height": 17
        },
        "id": "s3YUvmsy4N9f",
        "outputId": "c92aaf9c-4da9-467f-f7ff-ab849ba3d854"
      },
      "execution_count": 206,
      "outputs": [
        {
          "output_type": "display_data",
          "data": {
            "text/plain": [
              "<IPython.core.display.Javascript object>"
            ],
            "application/javascript": [
              "\n",
              "    async function download(id, filename, size) {\n",
              "      if (!google.colab.kernel.accessAllowed) {\n",
              "        return;\n",
              "      }\n",
              "      const div = document.createElement('div');\n",
              "      const label = document.createElement('label');\n",
              "      label.textContent = `Downloading \"${filename}\": `;\n",
              "      div.appendChild(label);\n",
              "      const progress = document.createElement('progress');\n",
              "      progress.max = size;\n",
              "      div.appendChild(progress);\n",
              "      document.body.appendChild(div);\n",
              "\n",
              "      const buffers = [];\n",
              "      let downloaded = 0;\n",
              "\n",
              "      const channel = await google.colab.kernel.comms.open(id);\n",
              "      // Send a message to notify the kernel that we're ready.\n",
              "      channel.send({})\n",
              "\n",
              "      for await (const message of channel.messages) {\n",
              "        // Send a message to notify the kernel that we're ready.\n",
              "        channel.send({})\n",
              "        if (message.buffers) {\n",
              "          for (const buffer of message.buffers) {\n",
              "            buffers.push(buffer);\n",
              "            downloaded += buffer.byteLength;\n",
              "            progress.value = downloaded;\n",
              "          }\n",
              "        }\n",
              "      }\n",
              "      const blob = new Blob(buffers, {type: 'application/binary'});\n",
              "      const a = document.createElement('a');\n",
              "      a.href = window.URL.createObjectURL(blob);\n",
              "      a.download = filename;\n",
              "      div.appendChild(a);\n",
              "      a.click();\n",
              "      div.remove();\n",
              "    }\n",
              "  "
            ]
          },
          "metadata": {}
        },
        {
          "output_type": "display_data",
          "data": {
            "text/plain": [
              "<IPython.core.display.Javascript object>"
            ],
            "application/javascript": [
              "download(\"download_5e17fd48-c5c6-4edd-962b-aea407620ffb\", \"dataset2.csv\", 129636)"
            ]
          },
          "metadata": {}
        }
      ]
    }
  ]
}