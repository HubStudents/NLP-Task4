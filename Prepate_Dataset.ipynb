{
  "nbformat": 4,
  "nbformat_minor": 0,
  "metadata": {
    "colab": {
      "provenance": []
    },
    "kernelspec": {
      "name": "python3",
      "display_name": "Python 3"
    },
    "language_info": {
      "name": "python"
    }
  },
  "cells": [
    {
      "cell_type": "code",
      "source": [
        "import  pandas as pd\n",
        "from nltk import tokenize\n",
        "from operator import itemgetter\n",
        "import math\n",
        "from rake_nltk import Rake\n",
        "import nltk\n",
        "from LeXmo import LeXmo\n",
        "from transformers import pipeline\n",
        "from google.colab import files\n",
        "import matplotlib.pyplot as plt\n",
        "import io\n"
      ],
      "metadata": {
        "id": "IVpCYT8pWmI4"
      },
      "execution_count": 174,
      "outputs": []
    },
    {
      "cell_type": "code",
      "source": [
        "rake_nltk_var = Rake()\n",
        "sentiment_pipeline = pipeline(\"sentiment-analysis\")"
      ],
      "metadata": {
        "id": "rPPApaQSGSk5"
      },
      "execution_count": null,
      "outputs": []
    },
    {
      "cell_type": "code",
      "source": [
        "#Загрузка и подготовка первого датасета\n",
        "dataset1 = pd.read_csv('Haikus - Лист1 .csv')\n",
        "dataset1.set_index('Number', inplace = True)\n",
        "dataset1=dataset1.fillna(\" \")"
      ],
      "metadata": {
        "id": "vIZNlrh2eUH6"
      },
      "execution_count": 184,
      "outputs": []
    },
    {
      "cell_type": "code",
      "source": [
        "#Просмотр первого датасета\n",
        "dataset1"
      ],
      "metadata": {
        "id": "sp-USuZcrq5j"
      },
      "execution_count": null,
      "outputs": []
    },
    {
      "cell_type": "code",
      "source": [
        "#Загрузка и подготовка второго датасета\n",
        "dataset2 = pd.read_csv('dataset2.csv')\n",
        "dataset2.set_index('Number', inplace = True)\n",
        "dataset2=dataset2.fillna(\" \")\n",
        "dataset2=dataset2.drop(['Unnamed: 0'], axis=1)"
      ],
      "metadata": {
        "id": "BtdiY6WhGi5H"
      },
      "execution_count": 191,
      "outputs": []
    },
    {
      "cell_type": "code",
      "source": [
        "#Просмотр второго датасета\n",
        "dataset2"
      ],
      "metadata": {
        "id": "Zb17J4Z3GxVx"
      },
      "execution_count": null,
      "outputs": []
    },
    {
      "cell_type": "code",
      "source": [
        "#Объединение таблиц\n",
        "datasetFinal=pd.concat([dataset1, dataset2], axis=0)\n",
        "datasetFinal=datasetFinal.reset_index(drop=True)\n",
        "datasetFinal.index += 1 \n",
        "datasetFinal[\"Original\"]=datasetFinal[\"Original\"].str.replace('/',' ')"
      ],
      "metadata": {
        "id": "5D_8PkGvG66I"
      },
      "execution_count": 199,
      "outputs": []
    },
    {
      "cell_type": "code",
      "source": [
        "#Просмотр финального датасета\n",
        "datasetFinal"
      ],
      "metadata": {
        "id": "kXiu3danIKAU"
      },
      "execution_count": null,
      "outputs": []
    },
    {
      "cell_type": "code",
      "source": [
        "for i in  range (1,len(datasetFinal.index)):\n",
        "  rake_nltk_var.extract_keywords_from_text(datasetFinal.loc[i]['Original'])\n",
        "  keyword_extracted = rake_nltk_var.get_ranked_phrases()\n",
        "  sentiment = sentiment_pipeline(datasetFinal.loc[i]['Original'])[0]['label']\n",
        "  datasetFinal.loc[i]['FirstKeyPhrase']=keyword_extracted[0]\n",
        "  datasetFinal.loc[i]['SecondKeyPhrase']=keyword_extracted[1]\n",
        "  datasetFinal.loc[i]['KeyEmotion']= sentiment\n",
        "\n"
      ],
      "metadata": {
        "id": "gp7s7s4CfZh6"
      },
      "execution_count": null,
      "outputs": []
    },
    {
      "cell_type": "code",
      "source": [
        "datasetFinal"
      ],
      "metadata": {
        "id": "dqn3_-U76C9f"
      },
      "execution_count": null,
      "outputs": []
    },
    {
      "cell_type": "code",
      "source": [
        "datasetFinal.to_excel(\"DatasetFinal.xlsx\")\n",
        "files.download(\"DatasetFinal.xlsx\")"
      ],
      "metadata": {
        "colab": {
          "base_uri": "https://localhost:8080/",
          "height": 17
        },
        "id": "bWWdmkYMhkCs",
        "outputId": "ac06dde3-fef3-4486-9e14-e19a004af969"
      },
      "execution_count": 160,
      "outputs": [
        {
          "output_type": "display_data",
          "data": {
            "text/plain": [
              "<IPython.core.display.Javascript object>"
            ],
            "application/javascript": [
              "\n",
              "    async function download(id, filename, size) {\n",
              "      if (!google.colab.kernel.accessAllowed) {\n",
              "        return;\n",
              "      }\n",
              "      const div = document.createElement('div');\n",
              "      const label = document.createElement('label');\n",
              "      label.textContent = `Downloading \"${filename}\": `;\n",
              "      div.appendChild(label);\n",
              "      const progress = document.createElement('progress');\n",
              "      progress.max = size;\n",
              "      div.appendChild(progress);\n",
              "      document.body.appendChild(div);\n",
              "\n",
              "      const buffers = [];\n",
              "      let downloaded = 0;\n",
              "\n",
              "      const channel = await google.colab.kernel.comms.open(id);\n",
              "      // Send a message to notify the kernel that we're ready.\n",
              "      channel.send({})\n",
              "\n",
              "      for await (const message of channel.messages) {\n",
              "        // Send a message to notify the kernel that we're ready.\n",
              "        channel.send({})\n",
              "        if (message.buffers) {\n",
              "          for (const buffer of message.buffers) {\n",
              "            buffers.push(buffer);\n",
              "            downloaded += buffer.byteLength;\n",
              "            progress.value = downloaded;\n",
              "          }\n",
              "        }\n",
              "      }\n",
              "      const blob = new Blob(buffers, {type: 'application/binary'});\n",
              "      const a = document.createElement('a');\n",
              "      a.href = window.URL.createObjectURL(blob);\n",
              "      a.download = filename;\n",
              "      div.appendChild(a);\n",
              "      a.click();\n",
              "      div.remove();\n",
              "    }\n",
              "  "
            ]
          },
          "metadata": {}
        },
        {
          "output_type": "display_data",
          "data": {
            "text/plain": [
              "<IPython.core.display.Javascript object>"
            ],
            "application/javascript": [
              "download(\"download_715823a7-da40-4ea1-a4de-13c3e19d5003\", \"DatasetFinal.xlsx\", 983507)"
            ]
          },
          "metadata": {}
        }
      ]
    },
    {
      "cell_type": "code",
      "source": [
        "#Визуализация количество позитивных и отрицательных хокку\n",
        "datasetFinal['KeyEmotion'].value_counts()[:7].plot(kind='bar')"
      ],
      "metadata": {
        "id": "ySTQtN2YwifM"
      },
      "execution_count": null,
      "outputs": []
    }
  ]
}